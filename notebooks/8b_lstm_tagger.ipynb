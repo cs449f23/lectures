{
 "cells": [
  {
   "cell_type": "markdown",
   "metadata": {
    "id": "CcchVsm9qspU"
   },
   "source": [
    "\n",
    "# Sequence Models and Long Short-Term Memory Networks\n",
    "\n",
    "This section from https://pytorch.org/tutorials/beginner/nlp/sequence_models_tutorial.html\n",
    "\n",
    "Written by Robert Guthrie\n",
    "\n",
    "At this point, we have seen various feed-forward networks. That is,\n",
    "there is no state maintained by the network at all. This might not be\n",
    "the behavior we want. Sequence models are central to NLP: they are\n",
    "models where there is some sort of dependence through time between your\n",
    "inputs. The classical example of a sequence model is the Hidden Markov\n",
    "Model for part-of-speech tagging. Another example is the conditional\n",
    "random field.\n",
    "\n",
    "A recurrent neural network is a network that maintains some kind of\n",
    "state. For example, its output could be used as part of the next input,\n",
    "so that information can propagate along as the network passes over the\n",
    "sequence. In the case of an LSTM, for each element in the sequence,\n",
    "there is a corresponding *hidden state* $h_t$, which in principle\n",
    "can contain information from arbitrary points earlier in the sequence.\n",
    "We can use the hidden state to predict words in a language model,\n",
    "part-of-speech tags, and a myriad of other things.\n",
    "\n",
    "\n",
    "## LSTMs in Pytorch\n",
    "\n",
    "Before getting to the example, note a few things. Pytorch's LSTM expects\n",
    "all of its inputs to be 3D tensors. The semantics of the axes of these\n",
    "tensors is important. The first axis is the sequence itself, the second\n",
    "indexes instances in the mini-batch, and the third indexes elements of\n",
    "the input. We haven't discussed mini-batching, so let's just ignore that\n",
    "and assume we will always have just 1 dimension on the second axis. If\n",
    "we want to run the sequence model over the sentence \"The cow jumped\",\n",
    "our input should look like\n",
    "\n",
    "\\begin{align}\\begin{bmatrix}\n",
    "   \\overbrace{q_\\text{The}}^\\text{row vector} \\\\\n",
    "   q_\\text{cow} \\\\\n",
    "   q_\\text{jumped}\n",
    "   \\end{bmatrix}\\end{align}\n",
    "\n",
    "Except remember there is an additional 2nd dimension with size 1.\n",
    "\n",
    "In addition, you could go through the sequence one at a time, in which\n",
    "case the 1st axis will have size 1 also.\n",
    "\n",
    "Let's see a quick example.\n"
   ]
  },
  {
   "cell_type": "code",
   "execution_count": 1,
   "metadata": {
    "colab": {
     "base_uri": "https://localhost:8080/"
    },
    "id": "Y0ci26VrqspV",
    "outputId": "2e7e2cd2-36b8-4ed8-d8eb-8ded49c5fc29"
   },
   "outputs": [
    {
     "data": {
      "text/plain": [
       "<torch._C.Generator at 0x116451850>"
      ]
     },
     "execution_count": 1,
     "metadata": {},
     "output_type": "execute_result"
    }
   ],
   "source": [
    "# Author: Robert Guthrie\n",
    "\n",
    "import torch\n",
    "import torch.nn as nn\n",
    "import torch.nn.functional as F\n",
    "import torch.optim as optim\n",
    "\n",
    "import numpy as np\n",
    "\n",
    "np.random.seed(1)\n",
    "torch.manual_seed(1)"
   ]
  },
  {
   "cell_type": "code",
   "execution_count": 2,
   "metadata": {
    "colab": {
     "base_uri": "https://localhost:8080/"
    },
    "id": "EstW0jVaqspV",
    "outputId": "2c961aba-7b45-4e90-86b3-ed315c1fc69d"
   },
   "outputs": [
    {
     "name": "stdout",
     "output_type": "stream",
     "text": [
      "tensor([[[-0.0187,  0.1713, -0.2944]],\n",
      "\n",
      "        [[-0.3521,  0.1026, -0.2971]],\n",
      "\n",
      "        [[-0.3191,  0.0781, -0.1957]],\n",
      "\n",
      "        [[-0.1634,  0.0941, -0.1637]],\n",
      "\n",
      "        [[-0.3368,  0.0959, -0.0538]]], grad_fn=<MkldnnRnnLayerBackward0>)\n",
      "(tensor([[[-0.3368,  0.0959, -0.0538]]], grad_fn=<StackBackward0>), tensor([[[-0.9825,  0.4715, -0.0633]]], grad_fn=<StackBackward0>))\n"
     ]
    }
   ],
   "source": [
    "lstm = nn.LSTM(3, 3)  # Input dim is 3, output dim is 3\n",
    "inputs = [torch.randn(1, 3) for _ in range(5)]  # make a sequence of length 5\n",
    "\n",
    "# initialize the hidden state.\n",
    "hidden = (torch.randn(1, 1, 3),\n",
    "          torch.randn(1, 1, 3))\n",
    "for i in inputs:\n",
    "    # Step through the sequence one element at a time.\n",
    "    # after each step, hidden contains the hidden state.\n",
    "    out, hidden = lstm(i.view(1, 1, -1), hidden)\n",
    "\n",
    "# alternatively, we can do the entire sequence all at once.\n",
    "# the first value returned by LSTM is all of the hidden states throughout\n",
    "# the sequence. the second is just the most recent hidden state\n",
    "# (compare the last slice of \"out\" with \"hidden\" below, they are the same)\n",
    "# The reason for this is that:\n",
    "# \"out\" will give you access to all hidden states in the sequence\n",
    "# \"hidden\" will allow you to continue the sequence and backpropagate,\n",
    "# by passing it as an argument  to the lstm at a later time\n",
    "# Add the extra 2nd dimension\n",
    "inputs = torch.cat(inputs).view(len(inputs), 1, -1)\n",
    "hidden = (torch.randn(1, 1, 3), torch.randn(1, 1, 3))  # clean out hidden state\n",
    "out, hidden = lstm(inputs, hidden)\n",
    "print(out)\n",
    "print(hidden)"
   ]
  },
  {
   "cell_type": "markdown",
   "metadata": {
    "id": "-JPxOi-aqspW"
   },
   "source": [
    "## Example: An LSTM for Part-of-Speech Tagging\n",
    "\n",
    "In this section, we will use an LSTM to get part of speech tags. We will\n",
    "not use Viterbi or Forward-Backward or anything like that, but as a\n",
    "(challenging) exercise to the reader, think about how Viterbi could be\n",
    "used after you have seen what is going on. In this example, we also refer\n",
    "to embeddings. If you are unfamiliar with embeddings, you can read up \n",
    "about them [here](https://pytorch.org/tutorials/beginner/nlp/word_embeddings_tutorial.html)_.\n",
    "\n",
    "The model is as follows: let our input sentence be\n",
    "$w_1, \\dots, w_M$, where $w_i \\in V$, our vocab. Also, let\n",
    "$T$ be our tag set, and $y_i$ the tag of word $w_i$.\n",
    "Denote our prediction of the tag of word $w_i$ by\n",
    "$\\hat{y}_i$.\n",
    "\n",
    "This is a structure prediction, model, where our output is a sequence\n",
    "$\\hat{y}_1, \\dots, \\hat{y}_M$, where $\\hat{y}_i \\in T$.\n",
    "\n",
    "To do the prediction, pass an LSTM over the sentence. Denote the hidden\n",
    "state at timestep $i$ as $h_i$. Also, assign each tag a\n",
    "unique index (like how we had word\\_to\\_ix in the word embeddings\n",
    "section). Then our prediction rule for $\\hat{y}_i$ is\n",
    "\n",
    "\\begin{align}\\hat{y}_i = \\text{argmax}_j \\  (\\log \\text{Softmax}(Ah_i + b))_j\\end{align}\n",
    "\n",
    "That is, take the log softmax of the affine map of the hidden state,\n",
    "and the predicted tag is the tag that has the maximum value in this\n",
    "vector. Note this implies immediately that the dimensionality of the\n",
    "target space of $A$ is $|T|$.\n",
    "\n",
    "\n",
    "Prepare data:\n",
    "\n"
   ]
  },
  {
   "cell_type": "code",
   "execution_count": 3,
   "metadata": {
    "colab": {
     "base_uri": "https://localhost:8080/"
    },
    "id": "ksJBZWWuqspW",
    "outputId": "75a703f2-725a-4298-ea65-ac5821d9ebcd"
   },
   "outputs": [
    {
     "name": "stdout",
     "output_type": "stream",
     "text": [
      "{'The': 0, 'dog': 1, 'ate': 2, 'the': 3, 'apple': 4, 'Everybody': 5, 'read': 6, 'that': 7, 'book': 8}\n",
      "{0: 'The', 1: 'dog', 2: 'ate', 3: 'the', 4: 'apple', 5: 'Everybody', 6: 'read', 7: 'that', 8: 'book'}\n"
     ]
    }
   ],
   "source": [
    "def prepare_sequence(seq, to_ix):\n",
    "    idxs = [to_ix[w] for w in seq]\n",
    "    return torch.tensor(idxs, dtype=torch.long)\n",
    "\n",
    "\n",
    "training_data = [\n",
    "    # Tags are: DET - determiner; NN - noun; V - verb\n",
    "    # For example, the word \"The\" is a determiner \n",
    "    (\"The dog ate the apple\".split(), [\"DET\", \"NN\", \"V\", \"DET\", \"NN\"]),\n",
    "    (\"Everybody read that book\".split(), [\"NN\", \"V\", \"DET\", \"NN\"])\n",
    "]\n",
    "word_to_ix = {}\n",
    "# For each words-list (sentence) and tags-list in each tuple of training_data\n",
    "for sent, tags in training_data:\n",
    "    for word in sent:\n",
    "        if word not in word_to_ix:  # word has not been assigned an index yet\n",
    "            word_to_ix[word] = len(word_to_ix)  # Assign each word with a unique index\n",
    "\n",
    "ix_to_word = {v: k for k, v in word_to_ix.items()}\n",
    "print(word_to_ix)\n",
    "print(ix_to_word)\n",
    "\n",
    "tag_to_ix = {\"DET\": 0, \"NN\": 1, \"V\": 2}  # Assign each tag with a unique index\n",
    "ix_to_tag = {v: k for k, v in tag_to_ix.items()}\n",
    "# These will usually be more like 32 or 64 dimensional.\n",
    "# We will keep them small, so we can see how the weights change as we train.\n",
    "EMBEDDING_DIM = 6\n",
    "HIDDEN_DIM = 6"
   ]
  },
  {
   "cell_type": "markdown",
   "metadata": {
    "id": "tM6EO33hqspX"
   },
   "source": [
    "Create the model:\n",
    "\n"
   ]
  },
  {
   "cell_type": "code",
   "execution_count": 4,
   "metadata": {
    "id": "0QIB_c9MqspX"
   },
   "outputs": [],
   "source": [
    "class LSTMTagger(nn.Module):\n",
    "\n",
    "    def __init__(self, embedding_dim, hidden_dim, vocab_size, tagset_size):\n",
    "        super(LSTMTagger, self).__init__()\n",
    "        self.hidden_dim = hidden_dim\n",
    "\n",
    "        self.word_embeddings = nn.Embedding(vocab_size, embedding_dim)\n",
    "\n",
    "        # The LSTM takes word embeddings as inputs, and outputs hidden states\n",
    "        # with dimensionality hidden_dim.\n",
    "        self.lstm = nn.LSTM(embedding_dim, hidden_dim)\n",
    "\n",
    "        # The linear layer that maps from hidden state space to tag space\n",
    "        self.hidden2tag = nn.Linear(hidden_dim, tagset_size)\n",
    "\n",
    "    def forward(self, sentence):\n",
    "        embeds = self.word_embeddings(sentence)\n",
    "        lstm_out, _ = self.lstm(embeds.view(len(sentence), 1, -1))\n",
    "        tag_space = self.hidden2tag(lstm_out.view(len(sentence), -1))\n",
    "        tag_scores = F.log_softmax(tag_space, dim=1)\n",
    "        return tag_scores"
   ]
  },
  {
   "cell_type": "markdown",
   "metadata": {
    "id": "GaWJWU7lqspX"
   },
   "source": [
    "Train the model:\n",
    "\n"
   ]
  },
  {
   "cell_type": "code",
   "execution_count": 5,
   "metadata": {
    "colab": {
     "base_uri": "https://localhost:8080/"
    },
    "id": "r2dcNWl4qspX",
    "outputId": "0c179973-7b6c-4712-aaca-65768e5f34ce"
   },
   "outputs": [
    {
     "name": "stdout",
     "output_type": "stream",
     "text": [
      "the    V  \n",
      "book   DET\n",
      "ate    V  \n",
      "the    V  \n",
      "apple  DET\n",
      "\n",
      "the    DET\n",
      "book   NN \n",
      "ate    V  \n",
      "the    DET\n",
      "apple  NN \n"
     ]
    }
   ],
   "source": [
    "tagger = LSTMTagger(EMBEDDING_DIM, HIDDEN_DIM, len(word_to_ix), len(tag_to_ix))\n",
    "loss_function = nn.NLLLoss()\n",
    "optimizer = optim.SGD(tagger.parameters(), lr=0.1)\n",
    "\n",
    "# See what the scores are before training\n",
    "# Note that element i,j of the output is the score for tag j for word i.\n",
    "# Here we don't need to train, so the code is wrapped in torch.no_grad()\n",
    "with torch.no_grad():\n",
    "    test_sentence = \"the book ate the apple\".split()\n",
    "    inputs = prepare_sequence(test_sentence, word_to_ix)\n",
    "    tag_scores = tagger(inputs)\n",
    "    best_tag = np.argmax(tag_scores.cpu().numpy(), axis=1)\n",
    "    for i in range(best_tag.shape[0]):\n",
    "        print(\"{:6s} {:3s}\".format(\n",
    "            test_sentence[i],\n",
    "            ix_to_tag[best_tag[i]])\n",
    "        )\n",
    "    # print(tag_scores)\n",
    "print()\n",
    "\n",
    "for epoch in range(300):  # again, normally you would NOT do 300 epochs, it is toy data\n",
    "    for sentence, tags in training_data:\n",
    "        # Step 1. Remember that Pytorch accumulates gradients.\n",
    "        # We need to clear them out before each instance\n",
    "        tagger.zero_grad()\n",
    "\n",
    "        # Step 2. Get our inputs ready for the network, that is, turn them into\n",
    "        # Tensors of word indices.\n",
    "        sentence_in = prepare_sequence(sentence, word_to_ix)\n",
    "        targets = prepare_sequence(tags, tag_to_ix)\n",
    "\n",
    "        # Step 3. Run our forward pass.\n",
    "        tag_scores = tagger(sentence_in)\n",
    "\n",
    "        # Step 4. Compute the loss, gradients, and update the parameters by\n",
    "        #  calling optimizer.step()\n",
    "        loss = loss_function(tag_scores, targets)\n",
    "        loss.backward()\n",
    "        optimizer.step()\n",
    "\n",
    "# See what the scores are after training\n",
    "with torch.no_grad():\n",
    "    inputs = prepare_sequence(training_data[0][0], word_to_ix)\n",
    "    tag_scores = tagger(inputs)\n",
    "\n",
    "    # The sentence is \"the dog ate the apple\".  i,j corresponds to score for tag j\n",
    "    # for word i. The predicted tag is the maximum scoring tag.\n",
    "    # Here, we can see the predicted sequence below is 0 1 2 0 1\n",
    "    # since 0 is index of the maximum value of row 1,\n",
    "    # 1 is the index of maximum value of row 2, etc.\n",
    "    # Which is DET NOUN VERB DET NOUN, the correct sequence!\n",
    "    best_tag = np.argmax(tag_scores.cpu().numpy(), axis=1)\n",
    "    for i in range(best_tag.shape[0]):\n",
    "        print(\"{:6s} {:3s}\".format(\n",
    "            test_sentence[i],\n",
    "            ix_to_tag[best_tag[i]])\n",
    "        )"
   ]
  },
  {
   "cell_type": "code",
   "execution_count": 6,
   "metadata": {
    "colab": {
     "base_uri": "https://localhost:8080/"
    },
    "id": "5GVtZFtotkpK",
    "outputId": "49232ed9-b1fb-42f3-adf4-2d581816fbd9"
   },
   "outputs": [
    {
     "name": "stdout",
     "output_type": "stream",
     "text": [
      "fatal: destination path 'cs449w23' already exists and is not an empty directory.\n",
      "/Users/zachwooddoughty/Documents/cs449w23\n"
     ]
    }
   ],
   "source": [
    "# If using local runtime\n",
    "base_dir = \"~/Documents\"\n",
    "# If using hosted runtime\n",
    "# base_dir = \"/content\"\n",
    "\n",
    "# helper code from the course repository\n",
    "!cd $base_dir && git clone -q https://github.com/zachwooddoughty/cs449w23.git\n",
    "# install common pacakges used for deep learning\n",
    "!cd $base_dir/cs449w23/ && pip install -q -r requirements.txt\n",
    "\n",
    "# make sure we're in the right directory\n",
    "%cd $base_dir/cs449w23/\n",
    "!git pull -q origin main"
   ]
  },
  {
   "cell_type": "markdown",
   "metadata": {
    "id": "yXWclQeLzKXv"
   },
   "source": [
    "# Learning to sum a sequence\n",
    "\n",
    "Let's train an LSTM to learn to sum the elements of a sequence."
   ]
  },
  {
   "cell_type": "code",
   "execution_count": 7,
   "metadata": {
    "id": "CL8obGy9qspS"
   },
   "outputs": [],
   "source": [
    "%matplotlib inline\n",
    "\n",
    "import datetime\n",
    "import itertools\n",
    "import math\n",
    "import time\n",
    "import torch\n",
    "import matplotlib.pyplot as plt\n",
    "import numpy as np\n",
    "import IPython.display as ipd\n",
    "from matplotlib.animation import FuncAnimation\n",
    "from pathlib import Path\n",
    "from torch.utils.tensorboard import SummaryWriter\n",
    "from torchsummary import summary\n",
    "from tqdm import tqdm"
   ]
  },
  {
   "cell_type": "markdown",
   "metadata": {
    "id": "9vy3dg4yzTzp"
   },
   "source": [
    "First, let's generate a simple sequence."
   ]
  },
  {
   "cell_type": "code",
   "execution_count": 8,
   "metadata": {
    "colab": {
     "base_uri": "https://localhost:8080/"
    },
    "id": "GKfZtl9d0FnO",
    "outputId": "75786969-edb9-43a9-f514-1014138ac486"
   },
   "outputs": [
    {
     "name": "stdout",
     "output_type": "stream",
     "text": [
      "tensor([[[  1.],\n",
      "         [  0.],\n",
      "         [ 39.]],\n",
      "\n",
      "        [[ 56.],\n",
      "         [ 57.],\n",
      "         [ 42.]],\n",
      "\n",
      "        [[-50.],\n",
      "         [-32.],\n",
      "         [ -4.]],\n",
      "\n",
      "        [[  0.],\n",
      "         [  0.],\n",
      "         [  0.]],\n",
      "\n",
      "        [[ 31.],\n",
      "         [  0.],\n",
      "         [  0.]],\n",
      "\n",
      "        [[  0.],\n",
      "         [-43.],\n",
      "         [-97.]],\n",
      "\n",
      "        [[ 96.],\n",
      "         [  0.],\n",
      "         [  4.]],\n",
      "\n",
      "        [[  0.],\n",
      "         [  0.],\n",
      "         [ 95.]],\n",
      "\n",
      "        [[  0.],\n",
      "         [  0.],\n",
      "         [  0.]],\n",
      "\n",
      "        [[  0.],\n",
      "         [  0.],\n",
      "         [ 65.]]])\n",
      "tensor([[134.],\n",
      "        [-18.],\n",
      "        [144.]])\n"
     ]
    }
   ],
   "source": [
    "def generate_sequence(length=10, num_prob=0.5):\n",
    "    is_number = np.random.rand(length) < num_prob\n",
    "    numbers = np.random.randint(-100, 100, size=length)\n",
    "    return np.where(is_number, numbers, 0)\n",
    "\n",
    "def build_dataset(n, length=10, num_prob=0.5):\n",
    "    X = [generate_sequence(length, num_prob) for _ in range(n)]\n",
    "    X = np.stack(X, axis=0).reshape(length, n, 1)\n",
    "    X = torch.tensor(X).float()\n",
    "    y = torch.tensor(np.nansum(X, axis=0)).float()\n",
    "\n",
    "    return (X, y)\n",
    "\n",
    "\n",
    "X, y = build_dataset(3, length=10, num_prob=0.5)\n",
    "print(X)\n",
    "print(y)"
   ]
  },
  {
   "cell_type": "markdown",
   "metadata": {
    "id": "Bp9sb0-izYog"
   },
   "source": [
    "Our model is just an LSTM that passes its final hidden state through a linear to make a regression prediction."
   ]
  },
  {
   "cell_type": "code",
   "execution_count": 9,
   "metadata": {
    "id": "4efppESM8G6i"
   },
   "outputs": [],
   "source": [
    "# https://pytorch.org/docs/stable/generated/torch.nn.LSTM.html\n",
    "class LSTMRegression(torch.nn.Module):\n",
    "    def __init__(self, input_dim=1, hidden_dim=8, output_dim=1):\n",
    "        super().__init__()\n",
    "        self.lstm = torch.nn.LSTM(input_dim, hidden_dim)\n",
    "        self.linear = torch.nn.Linear(hidden_dim, output_dim)\n",
    "\n",
    "    def forward(self, X):\n",
    "        hidden, (c, h) = self.lstm(X)\n",
    "        return self.linear(hidden[-1, :])"
   ]
  },
  {
   "cell_type": "markdown",
   "metadata": {
    "id": "XBy-WqfHzh24"
   },
   "source": [
    "Set up our model to train. Note that this is extremely inefficient because we aren't batching, but batching sequences is a little bit of a pain."
   ]
  },
  {
   "cell_type": "code",
   "execution_count": 10,
   "metadata": {
    "id": "hGt-a68X2L-Z"
   },
   "outputs": [],
   "source": [
    "def train_model(model, opt, X, y, n_epochs, verbose=True):\n",
    "    start = time.time()\n",
    "    for epoch in range(n_epochs):\n",
    "        n_train = X.shape[1]\n",
    "        model.zero_grad()\n",
    "        epoch_loss = 0\n",
    "        for i in range(n_train):\n",
    "            pred = model(X[:, i, :])\n",
    "            epoch_loss += mse_loss(pred, y[i,])\n",
    "        epoch_loss.backward()\n",
    "        opt.step()\n",
    "\n",
    "        epoch_loss /= n_train\n",
    "        if verbose:\n",
    "            if epoch == 0 or (epoch + 1) % max(1, n_epochs // 10) == 0:\n",
    "                minutes = (time.time() - start) / 60\n",
    "                \n",
    "                log = \"  \".join([\n",
    "                    f\"Epoch: {epoch + 1:3d}\",\n",
    "                    f\"in {minutes:4.1f} min\",\n",
    "                    f\"Loss: {epoch_loss:10.1f}\",\n",
    "                ])\n",
    "                print(log)\n",
    "\n",
    "        if epoch_loss < 1:\n",
    "            print(f\"Done after {epoch} epochs\")\n",
    "            break\n",
    "    return epoch_loss"
   ]
  },
  {
   "cell_type": "markdown",
   "metadata": {
    "id": "1YY-p6mnzqzR"
   },
   "source": [
    "Train (with a bit of a grid search over hyperparameters) our model\n",
    "to sum up to 16 numbers."
   ]
  },
  {
   "cell_type": "code",
   "execution_count": 18,
   "metadata": {
    "colab": {
     "base_uri": "https://localhost:8080/"
    },
    "id": "eNRAbpNT_WbW",
    "outputId": "3db91d46-721c-484b-c5b2-5f230e957fab"
   },
   "outputs": [
    {
     "name": "stdout",
     "output_type": "stream",
     "text": [
      "Epoch:   1  in  0.0 min  Loss:    24798.1\n",
      "Epoch:  10  in  0.2 min  Loss:    24133.9\n",
      "Epoch:  20  in  0.4 min  Loss:    22070.5\n",
      "Epoch:  30  in  0.6 min  Loss:    19141.1\n",
      "Epoch:  40  in  0.7 min  Loss:    16473.2\n",
      "Epoch:  50  in  0.9 min  Loss:    13738.5\n",
      "Epoch:  60  in  1.1 min  Loss:    12421.4\n",
      "Epoch:  70  in  1.3 min  Loss:    10628.2\n",
      "Epoch:  80  in  1.5 min  Loss:     9131.1\n",
      "Epoch:  90  in  1.6 min  Loss:     7757.0\n",
      "Epoch: 100  in  1.8 min  Loss:     6592.9\n"
     ]
    }
   ],
   "source": [
    "np.random.seed(1)\n",
    "torch.manual_seed(1)\n",
    "torch.use_deterministic_algorithms(True)\n",
    "\n",
    "device = torch.device(\"cuda\" if torch.cuda.is_available() else \"cpu\")\n",
    "model = LSTMRegression(input_dim=1, hidden_dim=16, output_dim=1).to(device)\n",
    "opt = torch.optim.Adam(model.parameters(), lr=0.1)\n",
    "\n",
    "mse_loss = torch.nn.MSELoss()\n",
    "\n",
    "X, y = build_dataset(n=1000, length=8, num_prob=1)\n",
    "X = X.to(device)\n",
    "y = y.to(device)\n",
    "\n",
    "_ = train_model(model, opt, X, y, n_epochs=100)\n",
    "\n",
    "# length 2\n",
    "# n 1000\n",
    "# hidden_dim 8\n",
    "  # lr 1.0   -> Epoch: 100  in  1.5 min  Loss:      932.8\n",
    "  # lr 1.0   -> Epoch: 200  in  2.9 min  Loss:      907.2\n",
    "  # lr 0.5   -> Epoch: 100  in  1.4 min  Loss:     1189.0\n",
    "  # lr 0.5   -> Epoch: 200  in  2.9 min  Loss:      473.4\n",
    "  # lr 0.1   -> Epoch: 100  in  1.4 min  Loss:     4353.9\n",
    "  # lr 0.01  -> Epoch: 100  in  1.4 min  Loss:     8990.8\n",
    "# hidden_dim 32\n",
    "  # lr 0.5   -> Epoch: 200  in  2.7 min  Loss:       58.2\n",
    "# hidden_dim 64\n",
    "  # lr 0.5   -> Epoch: 200  in  2.8 min  Loss:       32.6\n",
    "  # lr 0.1   -> Epoch: 200  in  3.0 min  Loss:        7.4\n",
    "\n",
    "# length 4\n",
    "# hidden_dim 64\n",
    "  # lr 0.1   -> Epoch: 200  in  2.9 min  Loss:       37.3\n",
    "\n",
    "# length 8\n",
    "# hidden_dim 64\n",
    "  # lr 0.1   -> Epoch: 200  in  3.0 min  Loss:      196.7\n",
    "\n",
    "# length 8\n",
    "# n 10000\n",
    "# hidden_dim 64\n",
    "  # lr 0.1   -> Epoch:  20  in  3.0 min  Loss:    13358.0\n",
    "  # lr 0.5   -> Epoch:  20  in  3.0 min  Loss:     5662.8\n",
    "  # lr 0.5   -> Epoch:  40  in  6.0 min  Loss:     2308.6\n",
    "\n",
    "# length 16\n",
    "# hidden_dim 64\n",
    "# n 1000\n",
    "  # lr 0.1   -> Epoch:  40  in  0.6 min  Loss:    12399.2\n",
    "  # lr 1.0   -> Epoch:  40  in  0.6 min  Loss:    13372.9\n",
    "# n 2000\n",
    "  # lr 0.5   -> Epoch:  40  in  1.4 min  Loss:    10271.7\n",
    "# n 10000\n",
    "  # lr 0.1   -> Epoch:  20  in  3.3 min  Loss:    35480.2\n",
    "  # lr 0.1   -> Epoch:  40  in  6.5 min  Loss:    17018.8\n",
    "  # lr 0.1   -> Epoch: 100  in 15.9 min  Loss:     5027.0\n",
    "  # lr 0.5   -> Epoch:  40  in  6.4 min  Loss:    13417.8\n",
    "  # lr 0.5   -> Epoch: 100  in 16.0 min  Loss:     8280.9"
   ]
  },
  {
   "cell_type": "code",
   "execution_count": 13,
   "metadata": {
    "colab": {
     "base_uri": "https://localhost:8080/"
    },
    "id": "2ckMhExeAVxS",
    "outputId": "1a984643-0439-4258-ac61-ac374b9edba3"
   },
   "outputs": [
    {
     "name": "stdout",
     "output_type": "stream",
     "text": [
      "len     mean      std\n",
      "  2     12.4     39.0\n",
      "  4   2346.8   4614.0\n",
      "  8   9736.4  16191.7\n",
      " 16  29327.5  44918.5\n"
     ]
    }
   ],
   "source": [
    "np.random.seed(1)\n",
    "torch.manual_seed(1)\n",
    "torch.use_deterministic_algorithms(True)\n",
    "\n",
    "print(\"len     mean      std\")\n",
    "lengths = [2, 4, 8, 16]\n",
    "n_test = 100\n",
    "for length_idx, length in enumerate(lengths):\n",
    "    results = []\n",
    "    X_test, y_test = build_dataset(n=n_test, length=length, num_prob=1)\n",
    "    for example_idx in range(n_test):\n",
    "        example = X_test[:, example_idx, :].to(device)\n",
    "        pred = model(example)\n",
    "        target = y_test[example_idx,].numpy()\n",
    "        pred = pred.cpu().detach().numpy().round(3)[0]\n",
    "        results.append((target - pred) ** 2)\n",
    "    mean_mse = np.mean(results)\n",
    "    std_mse = np.std(results)\n",
    "    print(f\"{length:3d} {mean_mse:>8.1f} {std_mse:>8.1f}\")"
   ]
  },
  {
   "cell_type": "code",
   "execution_count": 14,
   "metadata": {
    "colab": {
     "base_uri": "https://localhost:8080/",
     "height": 882
    },
    "id": "VZfy7OsVwep6",
    "outputId": "a9040e55-a02a-4d55-96cc-0950dc27efac"
   },
   "outputs": [
    {
     "name": "stdout",
     "output_type": "stream",
     "text": [
      "Len   2; loss:     59.5\n",
      "Len   4; loss:    105.7\n",
      "Len   8; loss:    610.8\n",
      "Len  16; loss:   9634.9\n",
      "Len  32; loss:  26169.1\n",
      "Len  64; loss:  99629.4\n",
      "Len 128; loss: 132413.4\n",
      "Len 256; loss: 252570.4\n"
     ]
    },
    {
     "data": {
      "image/png": "[encoded data removed]",
      "text/plain": [
       "<Figure size 640x480 with 1 Axes>"
      ]
     },
     "metadata": {},
     "output_type": "display_data"
    }
   ],
   "source": [
    "device = torch.device(\"cuda\" if torch.cuda.is_available() else \"cpu\")\n",
    "model2 = LSTMRegression(input_dim=1, hidden_dim=64, output_dim=1).to(device)\n",
    "opt = torch.optim.Adam(model2.parameters(), lr=0.1)\n",
    "\n",
    "mse_loss = torch.nn.MSELoss()\n",
    "\n",
    "lengths = [2, 4, 8, 16, 32, 64, 128, 256]\n",
    "losses = []\n",
    "for length in lengths:\n",
    "    X, y = build_dataset(n=100, length=length, num_prob=1)\n",
    "    X = X.to(device)\n",
    "    y = y.to(device)\n",
    "\n",
    "    final_loss = train_model(model2, opt, X, y, n_epochs=100, verbose=False)\n",
    "    final_loss = final_loss.detach().cpu().numpy()\n",
    "    losses.append(final_loss)\n",
    "    print(f\"Len {length:3d}; loss: {final_loss:8.1f}\")\n",
    "\n",
    "axis = plt.subplot()\n",
    "axis.plot(np.log(np.array(lengths)), np.log(np.array(losses)))\n",
    "plt.show()"
   ]
  }
 ],
 "metadata": {
  "accelerator": "GPU",
  "colab": {
   "provenance": []
  },
  "gpuClass": "standard",
  "kernelspec": {
   "display_name": "Python 3 (ipykernel)",
   "language": "python",
   "name": "python3"
  },
  "language_info": {
   "codemirror_mode": {
    "name": "ipython",
    "version": 3
   },
   "file_extension": ".py",
   "mimetype": "text/x-python",
   "name": "python",
   "nbconvert_exporter": "python",
   "pygments_lexer": "ipython3",
   "version": "3.9.16"
  }
 },
 "nbformat": 4,
 "nbformat_minor": 1
}
